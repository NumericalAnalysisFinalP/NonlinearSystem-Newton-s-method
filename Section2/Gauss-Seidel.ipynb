{
 "cells": [
  {
   "cell_type": "code",
   "execution_count": 1,
   "metadata": {},
   "outputs": [],
   "source": [
    "from numpy import array\n",
    "from numpy import linalg as LA\n",
    "from numpy import inf\n",
    "import numpy as np"
   ]
  },
  {
   "cell_type": "code",
   "execution_count": 5,
   "metadata": {},
   "outputs": [
    {
     "name": "stdout",
     "output_type": "stream",
     "text": [
      "matrix is diagonally dominant\n",
      "System of equations:\n",
      "[  4*x1 +  -1*x2 +   0*x3 +  -2*x4 +   0*x5 +   0*x6] = [ -1]\n",
      "[ -1*x1 +   4*x2 +  -1*x3 +   0*x4 +  -2*x5 +   0*x6] = [  0]\n",
      "[  0*x1 +  -1*x2 +   4*x3 +   0*x4 +   0*x5 +  -2*x6] = [  1]\n",
      "[ -1*x1 +   0*x2 +   0*x3 +   4*x4 +  -1*x5 +   0*x6] = [ -2]\n",
      "[  0*x1 +  -1*x2 +   0*x3 +  -1*x4 +   4*x5 +  -1*x6] = [  1]\n",
      "[  0*x1 +   0*x2 +  -1*x3 +   0*x4 +  -1*x5 +   4*x6] = [  2]\n",
      "Iteration 1: [0. 0. 0. 0. 0. 0.]\n",
      "Iteration 2: [-0.25       -0.0625      0.234375   -0.5625      0.09375     0.58203125]\n",
      "Iteration 3: [-0.546875   -0.03125     0.53320312 -0.61328125  0.234375    0.69189453]\n",
      "Iteration 4: [-0.56445312  0.109375    0.62329102 -0.58251953  0.3046875   0.73199463]\n",
      "Iteration 5: [-0.51391602  0.1796875   0.66091919 -0.55230713  0.33984375  0.75019073]\n",
      "Iteration 6: [-0.48123169  0.21484375  0.6788063  -0.53534698  0.35742188  0.75905704]\n",
      "Iteration 7: [-0.46396255  0.23242188  0.68763399 -0.52663517  0.36621094  0.76346123]\n",
      "Iteration 8: [-0.45521212  0.24121094  0.69203335 -0.52225029  0.37060547  0.7656597 ]\n",
      "Iteration 9: [-0.45082241  0.24560547  0.69423122 -0.52005424  0.37280273  0.76675849]\n",
      "Iteration 10: [-0.44862575  0.24780273  0.69532993 -0.51895575  0.37390137  0.76730782]\n",
      "Iteration 11: [-0.44752719  0.24890137  0.69587925 -0.51840646  0.37445068  0.76758248]\n",
      "Iteration 12: [-0.44697789  0.24945068  0.69615391 -0.5181318   0.37472534  0.76771981]\n",
      "Iteration 13: [-0.44670323  0.24972534  0.69629124 -0.51799447  0.37486267  0.76778848]\n",
      "Iteration 14: [-0.4465659   0.24986267  0.69635991 -0.51792581  0.37493134  0.76782281]\n",
      "Iteration 15: [-0.44649724  0.24993134  0.69639424 -0.51789148  0.37496567  0.76783998]\n",
      "Iteration 16: [-0.4464629   0.24996567  0.69641141 -0.51787431  0.37498283  0.76784856]\n",
      "Iteration 17: [-0.44644574  0.24998283  0.69641999 -0.51786573  0.37499142  0.76785285]\n",
      "Iteration 18: [-0.44643715  0.24999142  0.69642428 -0.51786143  0.37499571  0.767855  ]\n",
      "Iteration 19: [-0.44643286  0.24999571  0.69642643 -0.51785929  0.37499785  0.76785607]\n",
      "Iteration 20: [-0.44643072  0.24999785  0.6964275  -0.51785822  0.37499893  0.76785661]\n",
      "Not converge, increase the # of iterations\n"
     ]
    }
   ],
   "source": [
    "ITERATION_LIMIT = 1000\n",
    "\n",
    "# initialize the matrix\n",
    "A = array([\n",
    "    [4, -1, 0, -2, 0, 0],\n",
    "    [-1, 4, -1, 0, -2, 0], \n",
    "    [0, -1, 4, 0, 0, -2], \n",
    "    [-1, 0, 0, 4, -1, 0], \n",
    "    [0, -1, 0, -1, 4, -1], \n",
    "    [0, 0, -1, 0, -1, 4]])\n",
    "# initialize the b vector\n",
    "b = array([-1.0,0,1,-2,1,2])\n",
    "\n",
    "n  = 0  #iteration counter\n",
    "tol = 5e-6\n",
    "converged = False\n",
    "# Find diagonal coefficients\n",
    "diag = np.diag(np.abs(A)) \n",
    "\n",
    "# Find row sum without diagonal\n",
    "off_diag = np.sum(np.abs(A), axis=1) - diag \n",
    "\n",
    "if np.all(diag >= off_diag):\n",
    "    print('matrix is diagonally dominant')\n",
    "else:\n",
    "    print('NOT diagonally dominant')\n",
    "\n",
    "# prints the equations of the linear system (input)\n",
    "print(\"System of equations:\")\n",
    "for i in range(A.shape[0]):\n",
    "    row = [\"{0:3g}*x{1}\".format(A[i, j], j + 1) for j in range(A.shape[1])]\n",
    "    print(\"[{0}] = [{1:3g}]\".format(\" + \".join(row), b[i]))\n",
    "\n",
    "# initial vector\n",
    "x = np.zeros_like(b)\n",
    "\n",
    "# Gauss-Seidel method\n",
    "for it_count in range(1, ITERATION_LIMIT):\n",
    "    x_new = np.zeros_like(x)\n",
    "    print(\"Iteration {0}: {1}\".format(it_count, x))\n",
    "    \n",
    "    for i in range(A.shape[0]):\n",
    "        s1 = np.dot(A[i, :i], x_new[:i])\n",
    "        s2 = np.dot(A[i, i + 1 :], x[i + 1 :])\n",
    "        x_new[i] = (b[i] - s1 - s2) / A[i, i]\n",
    "    if np.allclose(x, x_new, rtol=5e-6):\n",
    "        break\n",
    "    x = x_new\n",
    "\n",
    "    # Number of iterations for Gauss-Seidel method\n",
    "    xn = LA.norm(x-it_count,inf)\n",
    "    n = n + 1\n",
    "    \n",
    "    dx = np.sqrt(np.dot(x_new-it_count, x_new-it_count))\n",
    "    if dx < tol:\n",
    "        converged = True\n",
    "        print('Converged!')\n",
    "        break\n",
    "\n",
    "if not converged:\n",
    "    print('Not converge, increase the # of iterations')\n"
   ]
  },
  {
   "cell_type": "code",
   "execution_count": 6,
   "metadata": {},
   "outputs": [
    {
     "name": "stdout",
     "output_type": "stream",
     "text": [
      "approximate x = [-0.44643072  0.24999785  0.6964275  -0.51785822  0.37499893  0.76785661]\n",
      "Error: [-4.29153442e-06 -3.21865082e-06 -1.07288361e-06 -1.07288361e-06\n",
      " -5.36441803e-07 -2.22044605e-16]\n",
      " Number of iterations for Gauss-Seidel = 19\n"
     ]
    }
   ],
   "source": [
    "# Output \n",
    "print(\"approximate x = {0}\".format(x))\n",
    "error = np.dot(A, x) - b\n",
    "print(\"Error: {0}\".format(error))\n",
    "print(f\" Number of iterations for Gauss-Seidel = {n}\") "
   ]
  }
 ],
 "metadata": {
  "interpreter": {
   "hash": "11576a39b6e796f0954a9aff1c0ac0113f03f97d7547b5c66fbb8810eb86c677"
  },
  "kernelspec": {
   "display_name": "Python 3.8.8 ('base')",
   "language": "python",
   "name": "python3"
  },
  "language_info": {
   "codemirror_mode": {
    "name": "ipython",
    "version": 3
   },
   "file_extension": ".py",
   "mimetype": "text/x-python",
   "name": "python",
   "nbconvert_exporter": "python",
   "pygments_lexer": "ipython3",
   "version": "3.8.8"
  },
  "orig_nbformat": 4
 },
 "nbformat": 4,
 "nbformat_minor": 2
}

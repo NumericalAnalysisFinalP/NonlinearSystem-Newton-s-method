{
 "cells": [
  {
   "cell_type": "code",
   "execution_count": 1,
   "metadata": {},
   "outputs": [],
   "source": [
    "import numpy as np\n",
    "from gaussian_elimination_w_pp import part_piv_ge as gpp\n",
    "\n",
    "def f(x,y,z): \n",
    "    return x**2 + 50*x + y**2 + z**2 - 200\n",
    "\n",
    "def g(x,y,z):\n",
    "    return x**2 + 20*y + z**2 - 50\n",
    "\n",
    "def h(x,y,z):\n",
    "    return -x**2 - y**2 + 40*z + 75\n",
    "\n",
    "v = np.array([2,2,2])"
   ]
  },
  {
   "cell_type": "code",
   "execution_count": 2,
   "metadata": {},
   "outputs": [],
   "source": [
    "def newton(f,g,h,v,i,delta,Nmax):\n",
    "    \"\"\"\n",
    "    \n",
    "    Parameters\n",
    "    ----------\n",
    "    f,g,h : functions whose root we want to find\n",
    "    v : initial vector \n",
    "    i : Small number for numerical differentiation, otherwise known as \"h\" but using \"i\" here to differentiate between the function h and this value.\n",
    "    delta : The tolerance/accuracy we desire (difference between two approximations)\n",
    "    Nmax  : Maximum number of iterations to be performed\n",
    "\n",
    "\n",
    "    Returns\n",
    "    -------\n",
    "    v : The approximation to the root\n",
    "    iter_counter : Number of iterations it takes to satisfy tolerance\n",
    "\n",
    "    \"\"\"\n",
    "    iter_counter = 0  #initialize iteration counter\n",
    "    diff = float('inf') #initialize diff to be arbitrarily large float\n",
    "\n",
    "    while diff > delta and iter_counter < Nmax: \n",
    "\n",
    "        #Partial derivatives using centered difference, elements for Jacobian Matrix \n",
    "        Jfx = (f(v[0]+i,v[1],v[2])-f(v[0]-i,v[1],v[2]))/(2*i)\n",
    "        Jfy = (f(v[0],v[1]+i,v[2])-f(v[0],v[1]-i,v[2]))/(2*i) \n",
    "        Jfz = (f(v[0],v[1],v[2]+i)-f(v[0],v[1],v[2]-i))/(2*i) \n",
    "        Jgx = (g(v[0]+i,v[1],v[2])-g(v[0]-i,v[1],v[2]))/(2*i)\n",
    "        Jgy = (g(v[0],v[1]+i,v[2])-g(v[0],v[1]-i,v[2]))/(2*i) \n",
    "        Jgz = (g(v[0],v[1],v[2]+i)-g(v[0],v[1],v[2]-i))/(2*i) \n",
    "        Jhx = (h(v[0]+i,v[1],v[2])-h(v[0]-i,v[1],v[2]))/(2*i) \n",
    "        Jhy = (h(v[0],v[1]+i,v[2])-h(v[0],v[1]-i,v[2]))/(2*i) \n",
    "        Jhz = (h(v[0],v[1],v[2]+i)-h(v[0],v[1],v[2]-i))/(2*i) \n",
    "\n",
    "        #Jacobian matrix\n",
    "        J = np.array([ \n",
    "            [Jfx,Jfy,Jfz],\n",
    "            [Jgx,Jgy,Jgz],\n",
    "            [Jhx,Jhy,Jhz]\n",
    "        ]) \n",
    "\n",
    "        b = np.array([\n",
    "            [-1*f(v[0],v[1],v[2])],\n",
    "            [-1*g(v[0],v[1],v[2])],\n",
    "            [-1*h(v[0],v[1],v[2])]\n",
    "        ])\n",
    "\n",
    "        w = gpp(J,b) #Gaussian with pp to solve for w \n",
    "        new_v = np.add(w,v) #Add w and v for new estimate of v\n",
    "    \n",
    "        diff = np.amax(np.abs(np.subtract(new_v, v))) #Checking maximum difference between estimates\n",
    "        \n",
    "        v = new_v #Reassign v to new estimate\n",
    "\n",
    "        iter_counter +=1 \n",
    "        \n",
    "        print(\"Iteration: \",iter_counter)\n",
    "        print(\"Max Difference: \",diff)\n",
    "        print(\"v: \",v)\n",
    "\n",
    "    return v, iter_counter"
   ]
  },
  {
   "cell_type": "code",
   "execution_count": 3,
   "metadata": {},
   "outputs": [
    {
     "name": "stdout",
     "output_type": "stream",
     "text": [
      "Iteration:  1\n",
      "Max Difference:  3.415260454878948\n",
      "v:  [ 3.85009642  2.43895873 -1.41526045]\n",
      "Iteration:  2\n",
      "Max Difference:  0.7096346696054732\n",
      "v:  [ 3.64199002  1.72932406 -1.48230592]\n",
      "Iteration:  3\n",
      "Max Difference:  0.012243143944939971\n",
      "v:  [ 3.63283152  1.73208422 -1.47006277]\n",
      "Iteration:  4\n",
      "Max Difference:  1.028697547034163e-05\n",
      "v:  [ 3.63282797  1.73207393 -1.47006202]\n",
      "Iteration:  5\n",
      "Max Difference:  2.6423307986078726e-12\n",
      "v:  [ 3.63282797  1.73207393 -1.47006202]\n"
     ]
    }
   ],
   "source": [
    "v, iter_count = newton(f,g,h,v,0.05,5e-06,100)"
   ]
  }
 ],
 "metadata": {
  "interpreter": {
   "hash": "8462669cd6bad81bcaf04f376b5d5e433b16f66a7760a3d7263fa617782713f7"
  },
  "kernelspec": {
   "display_name": "Python 3.9.5 ('base')",
   "language": "python",
   "name": "python3"
  },
  "language_info": {
   "codemirror_mode": {
    "name": "ipython",
    "version": 3
   },
   "file_extension": ".py",
   "mimetype": "text/x-python",
   "name": "python",
   "nbconvert_exporter": "python",
   "pygments_lexer": "ipython3",
   "version": "3.8.8"
  },
  "orig_nbformat": 4
 },
 "nbformat": 4,
 "nbformat_minor": 2
}

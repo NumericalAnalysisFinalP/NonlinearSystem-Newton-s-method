{
 "cells": [
  {
   "cell_type": "code",
   "execution_count": 21,
   "metadata": {},
   "outputs": [],
   "source": [
    "import numpy as np\n",
    "from scipy.linalg import lu"
   ]
  },
  {
   "cell_type": "markdown",
   "metadata": {},
   "source": [
    "$\\mathbf{f(x,y) = p(x,y) = a_{00} + a_{10}x + a_{20}x^2 + a_{30}x^3 + a_{01}y + a_{02}y^2 + a_{03}y^3 + a_{11}xy + a_{21}x^2y + a_{31}x^3y + a_{12}xy^2 + a_{22}x^2y^2 + a_{32}x^3y^2 + a_{13}xy^3 + a_{23}x^2y^3 + a_{33}x^3y^3}$ \n",
    "\n",
    "$p(0,0) = a_{00}$ \n",
    "\n",
    "$p(1,0) = a_{00} + a_{10}x + a_{20}x^2 + a_{30}x^3$ \n",
    "\n",
    "$p(0,1) = a_{00} + a_{01}y + a_{02}y^2 + a_{03}y^3$ \n",
    "\n",
    "$p(1,1) = a_{00} + a_{10} + a_{20} + a_{30} + a_{01} + a_{02} + a_{03} + a_{11} + a_{21} + a_{31} + a_{12} + a_{22} + a_{32} + a_{13} + a_{23} + a_{33}$ \n",
    "\n",
    "\n",
    "$\\mathbf{f_x(x,y) = p_x(x,y) = a_{10} + 2a_{20}x + 3a_{30}x^2 + a_{11}y + 2a_{21}xy + 3a_{31}x^2y + a_{12}y^2 + 2a_{22}xy^2 + 3a_{32}x^2y^2 + a_{13}y^3 + 2a_{23}xy^3 + 3a_{33}x^2y^3}$\n",
    "\n",
    "$p_x(0,0) = a_{10}$\n",
    "\n",
    "$p_x(1,0) = a_{10} + 2a_{20} + 3a_{30}$\n",
    "\n",
    "$p_x(0,1) = a_{10} + a_{11} + a_{12} + a_{13}$\n",
    "\n",
    "$p_x(1,1) = a_{10} + 2a_{20} + 3a_{30} + a_{11} + 2a_{21} + 3a_{31} + a_{12} + 2a_{22} + 3a_{32} + a_{13} + 2a_{23} + 3a_{33}$\n",
    "\n",
    "\n",
    "$\\mathbf{f_y(x,y) = p_y(x,y) = a_{01} + 2a_{02}y + 3a_{03}y^2 + a_{11}x + a_{21}x^2 + a_{31}x^3 + 2a_{12}xy + 2a_{22}x^2y + 2a_{32}x^3y + 3a_{13}xy^2 + 3a_{23}x^2y^2 + 3a_{33}x^3y^2}$ \n",
    "\n",
    "$p_y(0,0) = a_{01}$ \n",
    "\n",
    "$p_y(1,0) = a_{01} + a_{11} + a_{21} + a_{31}$ \n",
    "\n",
    "$p_y(0,1) = a_{01} + 2a_{02} + 3a_{03}$ \n",
    "\n",
    "$p_y(1,1) = a_{01} + 2a_{02} + 3a_{03} + a_{11} + a_{21} + a_{31} + 2a_{12} + 2a_{22} + 2a_{32} + 3a_{13} + 3a_{23} + 3a_{33}$ \n",
    "\n",
    "\n",
    "$\\mathbf{f _ {xy}(x,y) = p_{xy}(x,y) = a_{11} + 2a_{21}x + 3a_{31}x^2 + 2a_{12}y + 4a_{22}xy + 6a_{32}x^2y + 3a_{13}y^2 + 6a_{23}xy^2 + 9a_{33}x^2y^2}$\n",
    "\n",
    "$p_{xy}(0,0) = a_{11}$\n",
    "\n",
    "$p_{xy}(1,0) = a_{11} + 2a_{21} + 3a_{31}$\n",
    "\n",
    "$p_{xy}(0,1) = a_{11} + 2a_{12} + 3a_{13}$\n",
    "\n",
    "$p_{xy}(1,1) = a_{11} + 2a_{21} + 3a_{31} + 2a_{12} + 4a_{22} + 6a_{32} + 3a_{13} + 6a_{23} + 9a_{33}$"
   ]
  },
  {
   "cell_type": "code",
   "execution_count": 22,
   "metadata": {},
   "outputs": [],
   "source": [
    "B = np.array([\n",
    "    [1,0,0,0,0,0,0,0,0,0,0,0,0,0,0,0], #p(0,0)\n",
    "    [1,1,1,1,0,0,0,0,0,0,0,0,0,0,0,0], #p(1,0)\n",
    "    [1,0,0,0,1,1,1,0,0,0,0,0,0,0,0,0], #p(0,1)\n",
    "    [1,1,1,1,1,1,1,1,1,1,1,1,1,1,1,1], #p(1,1)\n",
    "    [0,1,0,0,0,0,0,0,0,0,0,0,0,0,0,0], #p_x(0,0)\n",
    "    [0,1,2,3,0,0,0,0,0,0,0,0,0,0,0,0], #p_x(1,0)\n",
    "    [0,1,0,0,0,0,0,1,0,0,1,0,0,1,0,0], #p_x(0,1)\n",
    "    [0,1,2,3,0,0,0,1,2,3,1,2,3,1,2,3], #p_x(1,1)\n",
    "    [0,0,0,0,1,0,0,0,0,0,0,0,0,0,0,0], #p_y(0,0)\n",
    "    [0,0,0,0,1,0,0,1,1,1,0,0,0,0,0,0], #p_y(1,0)\n",
    "    [0,0,0,0,1,2,3,0,0,0,0,0,0,0,0,0], #p_y(0,1)\n",
    "    [0,0,0,0,1,2,3,1,1,1,2,2,2,3,3,3], #p_y(1,1)\n",
    "    [0,0,0,0,0,0,0,1,0,0,0,0,0,0,0,0], #p_xy(0,0)\n",
    "    [0,0,0,0,0,0,0,1,2,3,0,0,0,0,0,0], #p_xy(1,0)\n",
    "    [0,0,0,0,0,0,0,1,0,0,2,0,0,3,0,0], #p_xy(0,1)\n",
    "    [0,0,0,0,0,0,0,1,2,3,2,4,6,3,6,9], #p_xy(1,1)\n",
    "])\n",
    "\n",
    "def Bicubic_Interpolation(f):\n",
    "    h = 0.01\n",
    "    def fx(x,y):\n",
    "        return (f(x+h,y) - f(x-h,y))/(2*h)\n",
    "    def fy(x,y):\n",
    "        return (f(x,y+h) - f(x,y-h))/(2*h)\n",
    "    def fxy(x,y):\n",
    "        return (f(x+h,y+h)-f(x+h,y-h)-f(x-h,y+h)+f(x-h,y-h))/(4*h**2)\n",
    "    A = np.array([\n",
    "        [f(0,0)],\n",
    "        [f(1,0)],\n",
    "        [f(0,1)],\n",
    "        [f(1,1)],\n",
    "        [fx(0,0)],\n",
    "        [fx(1,0)],\n",
    "        [fx(0,1)],\n",
    "        [fx(1,1)],\n",
    "        [fy(0,0)],\n",
    "        [fy(1,0)],\n",
    "        [fy(0,1)],\n",
    "        [fy(1,1)],\n",
    "        [fxy(0,0)],\n",
    "        [fxy(1,0)],\n",
    "        [fxy(0,1)],\n",
    "        [fxy(1,1)],\n",
    "        ])\n",
    "    return A"
   ]
  },
  {
   "cell_type": "code",
   "execution_count": 23,
   "metadata": {},
   "outputs": [],
   "source": [
    "#LU Decomposition of B\n",
    "P, L, U = lu(B)"
   ]
  },
  {
   "cell_type": "code",
   "execution_count": 24,
   "metadata": {},
   "outputs": [],
   "source": [
    "#solve for f\n",
    "f = Bicubic_Interpolation(lambda x,y: y**2*np.e**(-(x**2+y**2)))"
   ]
  },
  {
   "cell_type": "code",
   "execution_count": 25,
   "metadata": {},
   "outputs": [],
   "source": [
    "#Solve for Alpha using LU\n",
    "y = np.linalg.solve(L,f)\n",
    "alpha = np.linalg.solve(U,y)"
   ]
  },
  {
   "cell_type": "code",
   "execution_count": 37,
   "metadata": {},
   "outputs": [
    {
     "name": "stdout",
     "output_type": "stream",
     "text": [
      "mult =  [[ 0.00000000e+00]\n",
      " [ 0.00000000e+00]\n",
      " [ 0.00000000e+00]\n",
      " [-1.80415768e-05]\n",
      " [ 3.67879441e-01]\n",
      " [ 1.35335283e-01]\n",
      " [-8.88178420e-16]\n",
      " [-2.70661544e-01]\n",
      " [ 0.00000000e+00]\n",
      " [-8.88178420e-16]\n",
      " [ 0.00000000e+00]\n",
      " [ 2.45218627e-05]\n",
      " [ 9.02108915e-06]\n",
      " [-8.88178420e-16]\n",
      " [-8.88178420e-16]\n",
      " [ 0.00000000e+00]]\n",
      "alpha =  [[ 0.00000000e+00]\n",
      " [ 3.67879441e-01]\n",
      " [-8.71094166e-01]\n",
      " [ 5.03214724e-01]\n",
      " [ 0.00000000e+00]\n",
      " [-0.00000000e+00]\n",
      " [ 0.00000000e+00]\n",
      " [ 9.02108915e-06]\n",
      " [-1.80421783e-05]\n",
      " [ 9.02108915e-06]\n",
      " [-1.10365637e+00]\n",
      " [ 3.42506727e+00]\n",
      " [-2.32148955e+00]\n",
      " [ 7.35767903e-01]\n",
      " [-2.28334765e+00]\n",
      " [ 1.54764035e+00]]\n",
      "sum alpha =  -1.8041576844041174e-05\n"
     ]
    }
   ],
   "source": [
    "print(\"mult = \",np.matmul(B,alpha))\n",
    "print(\"alpha = \",alpha)\n",
    "print(\"sum alpha = \", np.sum(alpha))"
   ]
  },
  {
   "cell_type": "code",
   "execution_count": 38,
   "metadata": {},
   "outputs": [],
   "source": [
    "def Estimate(x,y):\n",
    "    v = np.array([\n",
    "        [1],\n",
    "        [x],\n",
    "        [x**2],\n",
    "        [x**3],\n",
    "        [y],\n",
    "        [y**2],\n",
    "        [y**3],\n",
    "        [x*y],\n",
    "        [x**2*y],\n",
    "        [x**3*y],\n",
    "        [x*y**2],\n",
    "        [x**2*y**2],\n",
    "        [x**3*y**2],\n",
    "        [x*y**3],\n",
    "        [x**2*y**3],\n",
    "        [x**3*y**3]\n",
    "    ])\n",
    "\n",
    "    B_alpha = np.matmul(B,alpha)\n",
    "\n",
    "    A = np.array([\n",
    "        [np.dot(B_alpha[3],v)],\n",
    "        [np.dot(B_alpha[7],v)],\n",
    "        [np.dot(B_alpha[11],v)],\n",
    "        [np.dot(B_alpha[15],v)]\n",
    "        ])\n",
    "    \n",
    "    return A"
   ]
  },
  {
   "cell_type": "code",
   "execution_count": 39,
   "metadata": {},
   "outputs": [
    {
     "ename": "ValueError",
     "evalue": "shapes (1,) and (16,1) not aligned: 1 (dim 0) != 16 (dim 0)",
     "output_type": "error",
     "traceback": [
      "\u001b[0;31m---------------------------------------------------------------------------\u001b[0m",
      "\u001b[0;31mValueError\u001b[0m                                Traceback (most recent call last)",
      "\u001b[1;32m/Users/kristendawson/Desktop/*Num Analys 400/Classwork400/NonlinearSystem-Newton-s-method/Section3.ipynb Cell 9'\u001b[0m in \u001b[0;36m<module>\u001b[0;34m\u001b[0m\n\u001b[0;32m----> <a href='vscode-notebook-cell:/Users/kristendawson/Desktop/%2ANum%20Analys%20400/Classwork400/NonlinearSystem-Newton-s-method/Section3.ipynb#ch0000008?line=0'>1</a>\u001b[0m \u001b[39mprint\u001b[39m(Estimate(\u001b[39m0.5\u001b[39;49m,\u001b[39m0.5\u001b[39;49m))\n",
      "\u001b[1;32m/Users/kristendawson/Desktop/*Num Analys 400/Classwork400/NonlinearSystem-Newton-s-method/Section3.ipynb Cell 8'\u001b[0m in \u001b[0;36mEstimate\u001b[0;34m(x, y)\u001b[0m\n\u001b[1;32m      <a href='vscode-notebook-cell:/Users/kristendawson/Desktop/%2ANum%20Analys%20400/Classwork400/NonlinearSystem-Newton-s-method/Section3.ipynb#ch0000007?line=1'>2</a>\u001b[0m v \u001b[39m=\u001b[39m np\u001b[39m.\u001b[39marray([\n\u001b[1;32m      <a href='vscode-notebook-cell:/Users/kristendawson/Desktop/%2ANum%20Analys%20400/Classwork400/NonlinearSystem-Newton-s-method/Section3.ipynb#ch0000007?line=2'>3</a>\u001b[0m     [\u001b[39m1\u001b[39m],\n\u001b[1;32m      <a href='vscode-notebook-cell:/Users/kristendawson/Desktop/%2ANum%20Analys%20400/Classwork400/NonlinearSystem-Newton-s-method/Section3.ipynb#ch0000007?line=3'>4</a>\u001b[0m     [x],\n\u001b[0;32m   (...)\u001b[0m\n\u001b[1;32m     <a href='vscode-notebook-cell:/Users/kristendawson/Desktop/%2ANum%20Analys%20400/Classwork400/NonlinearSystem-Newton-s-method/Section3.ipynb#ch0000007?line=17'>18</a>\u001b[0m     [x\u001b[39m*\u001b[39m\u001b[39m*\u001b[39m\u001b[39m3\u001b[39m\u001b[39m*\u001b[39my\u001b[39m*\u001b[39m\u001b[39m*\u001b[39m\u001b[39m3\u001b[39m]\n\u001b[1;32m     <a href='vscode-notebook-cell:/Users/kristendawson/Desktop/%2ANum%20Analys%20400/Classwork400/NonlinearSystem-Newton-s-method/Section3.ipynb#ch0000007?line=18'>19</a>\u001b[0m ])\n\u001b[1;32m     <a href='vscode-notebook-cell:/Users/kristendawson/Desktop/%2ANum%20Analys%20400/Classwork400/NonlinearSystem-Newton-s-method/Section3.ipynb#ch0000007?line=20'>21</a>\u001b[0m B_alpha \u001b[39m=\u001b[39m np\u001b[39m.\u001b[39mmatmul(B,alpha)\n\u001b[1;32m     <a href='vscode-notebook-cell:/Users/kristendawson/Desktop/%2ANum%20Analys%20400/Classwork400/NonlinearSystem-Newton-s-method/Section3.ipynb#ch0000007?line=22'>23</a>\u001b[0m A \u001b[39m=\u001b[39m np\u001b[39m.\u001b[39marray([\n\u001b[0;32m---> <a href='vscode-notebook-cell:/Users/kristendawson/Desktop/%2ANum%20Analys%20400/Classwork400/NonlinearSystem-Newton-s-method/Section3.ipynb#ch0000007?line=23'>24</a>\u001b[0m     [np\u001b[39m.\u001b[39;49mdot(B_alpha[\u001b[39m3\u001b[39;49m],v)],\n\u001b[1;32m     <a href='vscode-notebook-cell:/Users/kristendawson/Desktop/%2ANum%20Analys%20400/Classwork400/NonlinearSystem-Newton-s-method/Section3.ipynb#ch0000007?line=24'>25</a>\u001b[0m     [np\u001b[39m.\u001b[39mdot(B_alpha[\u001b[39m7\u001b[39m],v)],\n\u001b[1;32m     <a href='vscode-notebook-cell:/Users/kristendawson/Desktop/%2ANum%20Analys%20400/Classwork400/NonlinearSystem-Newton-s-method/Section3.ipynb#ch0000007?line=25'>26</a>\u001b[0m     [np\u001b[39m.\u001b[39mdot(B_alpha[\u001b[39m11\u001b[39m],v)],\n\u001b[1;32m     <a href='vscode-notebook-cell:/Users/kristendawson/Desktop/%2ANum%20Analys%20400/Classwork400/NonlinearSystem-Newton-s-method/Section3.ipynb#ch0000007?line=26'>27</a>\u001b[0m     [np\u001b[39m.\u001b[39mdot(B_alpha[\u001b[39m15\u001b[39m],v)]\n\u001b[1;32m     <a href='vscode-notebook-cell:/Users/kristendawson/Desktop/%2ANum%20Analys%20400/Classwork400/NonlinearSystem-Newton-s-method/Section3.ipynb#ch0000007?line=27'>28</a>\u001b[0m     ])\n\u001b[1;32m     <a href='vscode-notebook-cell:/Users/kristendawson/Desktop/%2ANum%20Analys%20400/Classwork400/NonlinearSystem-Newton-s-method/Section3.ipynb#ch0000007?line=29'>30</a>\u001b[0m \u001b[39mreturn\u001b[39;00m A\n",
      "File \u001b[0;32m<__array_function__ internals>:5\u001b[0m, in \u001b[0;36mdot\u001b[0;34m(*args, **kwargs)\u001b[0m\n",
      "\u001b[0;31mValueError\u001b[0m: shapes (1,) and (16,1) not aligned: 1 (dim 0) != 16 (dim 0)"
     ]
    }
   ],
   "source": [
    "print(Estimate(0.5,0.5))"
   ]
  },
  {
   "cell_type": "code",
   "execution_count": null,
   "metadata": {},
   "outputs": [],
   "source": [
    "#1,x,x**2,x**3,y,y**2,y**3,"
   ]
  }
 ],
 "metadata": {
  "interpreter": {
   "hash": "8462669cd6bad81bcaf04f376b5d5e433b16f66a7760a3d7263fa617782713f7"
  },
  "kernelspec": {
   "display_name": "Python 3.9.5 ('base')",
   "language": "python",
   "name": "python3"
  },
  "language_info": {
   "codemirror_mode": {
    "name": "ipython",
    "version": 3
   },
   "file_extension": ".py",
   "mimetype": "text/x-python",
   "name": "python",
   "nbconvert_exporter": "python",
   "pygments_lexer": "ipython3",
   "version": "3.9.5"
  },
  "orig_nbformat": 4
 },
 "nbformat": 4,
 "nbformat_minor": 2
}

{
 "cells": [
  {
   "cell_type": "code",
   "execution_count": 21,
   "metadata": {},
   "outputs": [],
   "source": [
    "import numpy as np\n",
    "from scipy.linalg import lu"
   ]
  },
  {
   "cell_type": "markdown",
   "metadata": {},
   "source": [
    "$\\mathbf{f(x,y) = p(x,y) = a_{00} + a_{10}x + a_{20}x^2 + a_{30}x^3 + a_{01}y + a_{02}y^2 + a_{03}y^3 + a_{11}xy + a_{21}x^2y + a_{31}x^3y + a_{12}xy^2 + a_{22}x^2y^2 + a_{32}x^3y^2 + a_{13}xy^3 + a_{23}x^2y^3 + a_{33}x^3y^3}$ \n",
    "\n",
    "$p(0,0) = a_{00}$ \n",
    "\n",
    "$p(1,0) = a_{00} + a_{10}x + a_{20}x^2 + a_{30}x^3$ \n",
    "\n",
    "$p(0,1) = a_{00} + a_{01}y + a_{02}y^2 + a_{03}y^3$ \n",
    "\n",
    "$p(1,1) = a_{00} + a_{10} + a_{20} + a_{30} + a_{01} + a_{02} + a_{03} + a_{11} + a_{21} + a_{31} + a_{12} + a_{22} + a_{32} + a_{13} + a_{23} + a_{33}$ \n",
    "\n",
    "\n",
    "$\\mathbf{f_x(x,y) = p_x(x,y) = a_{10} + 2a_{20}x + 3a_{30}x^2 + a_{11}y + 2a_{21}xy + 3a_{31}x^2y + a_{12}y^2 + 2a_{22}xy^2 + 3a_{32}x^2y^2 + a_{13}y^3 + 2a_{23}xy^3 + 3a_{33}x^2y^3}$\n",
    "\n",
    "$p_x(0,0) = a_{10}$\n",
    "\n",
    "$p_x(1,0) = a_{10} + 2a_{20} + 3a_{30}$\n",
    "\n",
    "$p_x(0,1) = a_{10} + a_{11} + a_{12} + a_{13}$\n",
    "\n",
    "$p_x(1,1) = a_{10} + 2a_{20} + 3a_{30} + a_{11} + 2a_{21} + 3a_{31} + a_{12} + 2a_{22} + 3a_{32} + a_{13} + 2a_{23} + 3a_{33}$\n",
    "\n",
    "\n",
    "$\\mathbf{f_y(x,y) = p_y(x,y) = a_{01} + 2a_{02}y + 3a_{03}y^2 + a_{11}x + a_{21}x^2 + a_{31}x^3 + 2a_{12}xy + 2a_{22}x^2y + 2a_{32}x^3y + 3a_{13}xy^2 + 3a_{23}x^2y^2 + 3a_{33}x^3y^2}$ \n",
    "\n",
    "$p_y(0,0) = a_{01}$ \n",
    "\n",
    "$p_y(1,0) = a_{01} + a_{11} + a_{21} + a_{31}$ \n",
    "\n",
    "$p_y(0,1) = a_{01} + 2a_{02} + 3a_{03}$ \n",
    "\n",
    "$p_y(1,1) = a_{01} + 2a_{02} + 3a_{03} + a_{11} + a_{21} + a_{31} + 2a_{12} + 2a_{22} + 2a_{32} + 3a_{13} + 3a_{23} + 3a_{33}$ \n",
    "\n",
    "\n",
    "$\\mathbf{f _ {xy}(x,y) = p_{xy}(x,y) = a_{11} + 2a_{21}x + 3a_{31}x^2 + 2a_{12}y + 4a_{22}xy + 6a_{32}x^2y + 3a_{13}y^2 + 6a_{23}xy^2 + 9a_{33}x^2y^2}$\n",
    "\n",
    "$p_{xy}(0,0) = a_{11}$\n",
    "\n",
    "$p_{xy}(1,0) = a_{11} + 2a_{21} + 3a_{31}$\n",
    "\n",
    "$p_{xy}(0,1) = a_{11} + 2a_{12} + 3a_{13}$\n",
    "\n",
    "$p_{xy}(1,1) = a_{11} + 2a_{21} + 3a_{31} + 2a_{12} + 4a_{22} + 6a_{32} + 3a_{13} + 6a_{23} + 9a_{33}$"
   ]
  },
  {
   "cell_type": "code",
   "execution_count": 22,
   "metadata": {},
   "outputs": [],
   "source": [
    "B = np.array([\n",
    "    [1,0,0,0,0,0,0,0,0,0,0,0,0,0,0,0], #p(0,0)\n",
    "    [1,1,1,1,0,0,0,0,0,0,0,0,0,0,0,0], #p(1,0)\n",
    "    [1,0,0,0,1,1,1,0,0,0,0,0,0,0,0,0], #p(0,1)\n",
    "    [1,1,1,1,1,1,1,1,1,1,1,1,1,1,1,1], #p(1,1)\n",
    "    [0,1,0,0,0,0,0,0,0,0,0,0,0,0,0,0], #p_x(0,0)\n",
    "    [0,1,2,3,0,0,0,0,0,0,0,0,0,0,0,0], #p_x(1,0)\n",
    "    [0,1,0,0,0,0,0,1,0,0,1,0,0,1,0,0], #p_x(0,1)\n",
    "    [0,1,2,3,0,0,0,1,2,3,1,2,3,1,2,3], #p_x(1,1)\n",
    "    [0,0,0,0,1,0,0,0,0,0,0,0,0,0,0,0], #p_y(0,0)\n",
    "    [0,0,0,0,1,0,0,1,1,1,0,0,0,0,0,0], #p_y(1,0)\n",
    "    [0,0,0,0,1,2,3,0,0,0,0,0,0,0,0,0], #p_y(0,1)\n",
    "    [0,0,0,0,1,2,3,1,1,1,2,2,2,3,3,3], #p_y(1,1)\n",
    "    [0,0,0,0,0,0,0,1,0,0,0,0,0,0,0,0], #p_xy(0,0)\n",
    "    [0,0,0,0,0,0,0,1,2,3,0,0,0,0,0,0], #p_xy(1,0)\n",
    "    [0,0,0,0,0,0,0,1,0,0,2,0,0,3,0,0], #p_xy(0,1)\n",
    "    [0,0,0,0,0,0,0,1,2,3,2,4,6,3,6,9], #p_xy(1,1)\n",
    "])\n",
    "\n",
    "def Bicubic_Interpolation(f):\n",
    "    h = 0.01\n",
    "    def fx(x,y):\n",
    "        return (f(x+h,y) - f(x-h,y))/(2*h)\n",
    "    def fy(x,y):\n",
    "        return (f(x,y+h) - f(x,y-h))/(2*h)\n",
    "    def fxy(x,y):\n",
    "        return (f(x+h,y+h)-f(x+h,y-h)-f(x-h,y+h)+f(x-h,y-h))/(4*h**2)\n",
    "    A = np.array([\n",
    "        [f(0,0)],\n",
    "        [f(1,0)],\n",
    "        [f(0,1)],\n",
    "        [f(1,1)],\n",
    "        [fx(0,0)],\n",
    "        [fx(1,0)],\n",
    "        [fx(0,1)],\n",
    "        [fx(1,1)],\n",
    "        [fy(0,0)],\n",
    "        [fy(1,0)],\n",
    "        [fy(0,1)],\n",
    "        [fy(1,1)],\n",
    "        [fxy(0,0)],\n",
    "        [fxy(1,0)],\n",
    "        [fxy(0,1)],\n",
    "        [fxy(1,1)],\n",
    "        ])\n",
    "    return A"
   ]
  },
  {
   "cell_type": "code",
   "execution_count": 23,
   "metadata": {},
   "outputs": [],
   "source": [
    "#LU Decomposition of B\n",
    "P, L, U = lu(B)"
   ]
  },
  {
   "cell_type": "code",
   "execution_count": 24,
   "metadata": {},
   "outputs": [],
   "source": [
    "#solve for f\n",
    "f = Bicubic_Interpolation(lambda x,y: y**2*np.e**(-(x**2+y**2)))"
   ]
  },
  {
   "cell_type": "code",
   "execution_count": 84,
   "metadata": {},
   "outputs": [
    {
     "name": "stdout",
     "output_type": "stream",
     "text": [
      "[[ 0.00000000e+00]\n",
      " [ 3.67879441e-01]\n",
      " [-8.71094166e-01]\n",
      " [ 5.03214724e-01]\n",
      " [ 0.00000000e+00]\n",
      " [-0.00000000e+00]\n",
      " [ 0.00000000e+00]\n",
      " [ 9.02108915e-06]\n",
      " [-1.80421783e-05]\n",
      " [ 9.02108915e-06]\n",
      " [-1.10365637e+00]\n",
      " [ 3.42506727e+00]\n",
      " [-2.32148955e+00]\n",
      " [ 7.35767903e-01]\n",
      " [-2.28334765e+00]\n",
      " [ 1.54764035e+00]]\n"
     ]
    }
   ],
   "source": [
    "#Solve for Alpha using LU\n",
    "#? for HB: does this method work to solve for alpha\n",
    "y = np.linalg.solve(L,f)\n",
    "alpha = np.linalg.solve(U,y)"
   ]
  },
  {
   "cell_type": "code",
   "execution_count": 101,
   "metadata": {},
   "outputs": [],
   "source": [
    "def Estimate(x,y):\n",
    "    v = np.array([\n",
    "        [1],\n",
    "        [x],\n",
    "        [x**2],\n",
    "        [x**3],\n",
    "        [y],\n",
    "        [y**2],\n",
    "        [y**3],\n",
    "        [x*y],\n",
    "        [x**2*y],\n",
    "        [x**3*y],\n",
    "        [x*y**2],\n",
    "        [x**2*y**2],\n",
    "        [x**3*y**2],\n",
    "        [x*y**3],\n",
    "        [x**2*y**3],\n",
    "        [x**3*y**3]\n",
    "    ])\n",
    "\n",
    "    A = []\n",
    "\n",
    "    def func(i):\n",
    "        p = 0\n",
    "        for j in range(15):\n",
    "            p+=B[i][j]*alpha[j]*v[j]\n",
    "        return p[0]\n",
    "    for k in (3,7,11,15):\n",
    "        A.append(func(k))\n",
    "\n",
    "    return A"
   ]
  },
  {
   "cell_type": "code",
   "execution_count": 102,
   "metadata": {},
   "outputs": [],
   "source": [
    "p = Estimate(0.5,0.5)"
   ]
  },
  {
   "cell_type": "code",
   "execution_count": 109,
   "metadata": {},
   "outputs": [],
   "source": [
    "def g(x,y):\n",
    "    return y**2*np.e**(-(x**2+y**2))\n",
    "\n",
    "#partials using centered diff\n",
    "h = 0.01\n",
    "def fxe(x,y):\n",
    "    return (g(x+h,y) - g(x-h,y))/(2*h)\n",
    "def fye(x,y):\n",
    "    return (g(x,y+h) - g(x,y-h))/(2*h)\n",
    "def fxye(x,y):\n",
    "    return (g(x+h,y+h)-g(x+h,y-h)-g(x-h,y+h)+g(x-h,y-h))/(4*h**2)\n",
    "\n",
    "#calulated partial derivaties \n",
    "def fx(x,y):\n",
    "    return -2*x*y**2*np.e**(-(x**2+y**2))\n",
    "def fy(x,y):\n",
    "    return 2*y*np.e**(-(x**2+y**2))-2*y**3*np.e**(-(x**2+y**2))\n",
    "def fxy(x,y):\n",
    "    return -4*x*y*np.e**(-(x**2+y**2)) + 4*x*y**3*np.e**(-(x**2+y**2))\n",
    "a = b = 0.5\n",
    "estimate_ctr_diff = [g(a,b),fxe(a,b),fye(a,b),fxye(a,b)] #using centered difference function to estimate\n",
    "actual = [g(a,b),fx(a,b),fy(a,b),fxy(a,b)] #using calculated partial derivatives"
   ]
  },
  {
   "cell_type": "code",
   "execution_count": 110,
   "metadata": {},
   "outputs": [
    {
     "name": "stdout",
     "output_type": "stream",
     "text": [
      "[0.007262573880269491, -0.0870894205534514, -0.06898057552516595, -0.14509833011917084]\n",
      "[0.15163266492815836, -0.15162002939081293, 0.45481965602982566, -0.4547817559456824]\n",
      "[0.15163266492815836, -0.15163266492815836, 0.45489799478447507, -0.45489799478447507]\n"
     ]
    }
   ],
   "source": [
    "print(p)\n",
    "print(estimate_ctr_diff) \n",
    "print(actual)\n",
    "#not bad on just using centered difference but I don't know if our overall algorithm is correct with these differences between p and actual"
   ]
  }
 ],
 "metadata": {
  "interpreter": {
   "hash": "8462669cd6bad81bcaf04f376b5d5e433b16f66a7760a3d7263fa617782713f7"
  },
  "kernelspec": {
   "display_name": "Python 3.9.5 ('base')",
   "language": "python",
   "name": "python3"
  },
  "language_info": {
   "codemirror_mode": {
    "name": "ipython",
    "version": 3
   },
   "file_extension": ".py",
   "mimetype": "text/x-python",
   "name": "python",
   "nbconvert_exporter": "python",
   "pygments_lexer": "ipython3",
   "version": "3.9.5"
  },
  "orig_nbformat": 4
 },
 "nbformat": 4,
 "nbformat_minor": 2
}
